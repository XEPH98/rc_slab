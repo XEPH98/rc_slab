{
 "cells": [
  {
   "cell_type": "code",
   "execution_count": 1,
   "id": "128c4f4d-17ad-4ea1-a5a1-1c6061f32827",
   "metadata": {},
   "outputs": [
    {
     "name": "stdout",
     "output_type": "stream",
     "text": [
      "=== PROCEDURE, REFERENCE, & LIMITATIONS ===\n",
      "Procedure: Direct Design Method\n",
      "Reference: ACI 318M-14 | RCD by Darwin & Nelson\n",
      "Limitations: \n",
      " minimum 3x3 panel. If fewer, interior negative moments tend to be too small. \n",
      " Ratio not greater than 2. \n",
      " Span lengths not differ by more than 1/3 of the longer span. \n",
      " applicable only to braced frames \n",
      " Service live load shall not exceed two times the service dead load. \n",
      " relative stiffness of beams in two perpedicular directions shall not be lt 0.2 or gt 5.0.\n"
     ]
    }
   ],
   "source": [
    "print(\"=== PROCEDURE, REFERENCE, & LIMITATIONS ===\")\n",
    "print(\"Procedure: Direct Design Method\")\n",
    "print(\"Reference: ACI 318M-14 | RCD by Darwin & Nelson\")\n",
    "print(\"Limitations: \\n minimum 3x3 panel. If fewer, interior negative moments tend to be too small. \\n Ratio not greater than 2. \\n Span lengths not differ by more than 1/3 of the longer span. \\n applicable only to braced frames \\n Service live load shall not exceed two times the service dead load. \\n relative stiffness of beams in two perpedicular directions shall not be lt 0.2 or gt 5.0.\")"
   ]
  },
  {
   "cell_type": "code",
   "execution_count": 2,
   "id": "4aa3ffcf-6e1b-4b38-a83b-0ef0a00c7ab8",
   "metadata": {},
   "outputs": [],
   "source": [
    "import math\n",
    "pi = math.pi\n",
    "def sqrt(x):\n",
    "    return math.sqrt(x)\n",
    "def rd(x):\n",
    "    return round(x,2)"
   ]
  },
  {
   "cell_type": "code",
   "execution_count": 3,
   "id": "77319da9-50b6-4034-a723-5f692b20144e",
   "metadata": {},
   "outputs": [],
   "source": [
    "#Class and methods\n",
    "class Beam:\n",
    "    def __init__ (self, name, dimy, dimz, length):\n",
    "        self.name = name\n",
    "        self.dimy = dimy\n",
    "        self.dimz = dimz\n",
    "        self.length  = length\n",
    "    def Icb(self):\n",
    "        return self.dimy*self.dimz**3/12\n",
    "class Slab:\n",
    "    def __init__ (self, name, L, W, thk):\n",
    "        self.name = name\n",
    "        self.L = L #The larger dimension\n",
    "        self.W = W \n",
    "        self.thk = thk\n",
    "    def Ics(self):\n",
    "        return self.W*self.thk**3/12"
   ]
  },
  {
   "cell_type": "code",
   "execution_count": 4,
   "id": "570697e9",
   "metadata": {},
   "outputs": [
    {
     "name": "stdout",
     "output_type": "stream",
     "text": [
      "=== MATERIAL PROPERTIES ===\n",
      "fc = 27MPa | fy = 230MPa | Ec = 24.42GPa\n",
      "=== GEOMETRIC PROPERTIES ===\n",
      "Initial Slab Geometric Properties\n",
      " L = 5400mm, W = 5400mm, thk = 100mm.\n",
      "Ratio of longer to shorter slab clear span: 1.0\n",
      "Average Relative Stiffness beam to slab, alpha_f = 12.0.\n"
     ]
    }
   ],
   "source": [
    "#Slab and Beam Material Properties\n",
    "fc = 27 #MPa\n",
    "Ec = rd(4700*sqrt(fc)/1000) #GPa, for normal weight concrete\n",
    "fy = 230 #MPa\n",
    "print(\"=== MATERIAL PROPERTIES ===\")\n",
    "print(f\"fc = {fc}MPa | fy = {fy}MPa | Ec = {Ec}GPa\")\n",
    "\n",
    "#Beam Material and Geometric Properties\n",
    "B_north = Beam(\"B_north\",300,600,5400)\n",
    "B_south = Beam(\"B_south\",300,600,5400)\n",
    "B_east = Beam(\"B_east\",300,600,5400)\n",
    "B_west = Beam(\"B_west\",300,600,5400)\n",
    "\n",
    "#Slab Material and Geometric Properties\n",
    "print(\"=== GEOMETRIC PROPERTIES ===\")\n",
    "S1 = Slab(\"S1\",5400,5400,100)\n",
    "lb = S1.L #larger dimension\n",
    "la = S1.W #shorter dimension\n",
    "print(f\"Initial Slab Geometric Properties\\n L = {S1.L}mm, W = {S1.W}mm, thk = {S1.thk}mm.\")\n",
    "beta = S1.L / S1.W #Ratio of longer to shorter slab dim\n",
    "print(f\"Ratio of longer to shorter slab clear span: {rd(beta)}\")\n",
    "\n",
    "#Beam-to-slab Stiffness Ratio, alpha_f\n",
    "alpha_f = B_north.Icb() / S1.Ics()\n",
    "print(f\"Average Relative Stiffness beam to slab, alpha_f = {rd(alpha_f)}.\")\n"
   ]
  },
  {
   "cell_type": "code",
   "execution_count": 6,
   "id": "e9a51c87",
   "metadata": {},
   "outputs": [
    {
     "name": "stdout",
     "output_type": "stream",
     "text": [
      "Minimum Slab Thickness (ACI318M-14, 8.3.1.2) = 115.71mm.\n",
      "Factored Uniform Pressure, qu = 9.69kPa.\n"
     ]
    }
   ],
   "source": [
    "#Slab Minimum Thickness per 8.3.1.2 ACI318M-14\n",
    "if alpha_f > 0.20 and alpha_f < 2:\n",
    "    h_min = rd(max( S1.L * (0.8 + fy/1400) / (36+5*(S1.L/S1.W)*(alpha_f - 0.2)) , 125)) #mm\n",
    "else: \n",
    "    h_min = rd(max( S1.L * (0.8 + fy/1400) / (36+9*(S1.L/S1.W)) , 90)) #mm\n",
    "    \n",
    "print(f\"Minimum Slab Thickness (ACI318M-14, 8.3.1.2) = {h_min}mm.\")\n",
    "#Factored Uniform Load\n",
    "DL = 24*max(h_min,S1.thk)*.001 + 2.1 #selfweight of slab, kPa\n",
    "LL = 2.4 #kPa\n",
    "qu = 1.2*DL + 1.6*LL\n",
    "print(f\"Factored Uniform Pressure, qu = {rd(qu)}kPa.\") #kPa"
   ]
  },
  {
   "cell_type": "code",
   "execution_count": 10,
   "id": "00e9df02",
   "metadata": {},
   "outputs": [
    {
     "name": "stdout",
     "output_type": "stream",
     "text": [
      "=== MIN. REINF. NEAR TENSION FACE, EA.DIR. ===\n",
      "*Per ACI318M-14, Section 8.6.1\n",
      "Asmin = 0.0020Ag = 200.0mm2 per mtr width of slab\n",
      "Minimum spacing of flexural reinf. at crit. sections must not exceed 2*slab_thk per ACI318M-14, Section 8.7.3\n",
      "=== CORNER RESTRAINT IN SLAB ===\n",
      "*Per ACI318M-14, Section 8.7.3\n",
      "Length corner bar, lcor = 1080mm\n",
      "Mu_cor = 5.65kN-m\n"
     ]
    }
   ],
   "source": [
    "#Minimum reinforcement near tension face for each dir\n",
    "print(\"=== MIN. REINF. NEAR TENSION FACE, EA.DIR. ===\")\n",
    "print(\"*Per ACI318M-14, Section 8.6.1\")\n",
    "if fy < 420:\n",
    "    Asmin = rd(0.0020 * 1000 * S1.thk)\n",
    "    print(f\"Asmin = 0.0020Ag = {Asmin}mm2 per mtr width of slab\")\n",
    "else:\n",
    "    Asmin = rd( max( 0.0018*420*1000*S1.thk/fy , 0.0014*1000*S1.thk ) )\n",
    "    print(f\"Asmin = {Asmin}mm2 per mtr width of slab\")\n",
    "\n",
    "#Minimum spacing of flexural reinforcement at crit sections\n",
    "print(\"Minimum spacing of flexural reinf. at crit. sections must not exceed 2*slab_thk per ACI318M-14, Section 8.7.3\")\n",
    "\n",
    "#Corner restraint in slab\n",
    "print(\"=== CORNER RESTRAINT IN SLAB ===\")\n",
    "print(\"*Per ACI318M-14, Section 8.7.3\")\n",
    "lcor = int(rd(lb / 5)) #mm\n",
    "print(f\"Length corner bar, lcor = {lcor}mm\")\n",
    "Mu_cor = rd((1/2)*qu*(lcor*0.001)**2) #kN-m\n",
    "print(f\"Mu_cor = {Mu_cor}kN-m\")\n"
   ]
  },
  {
   "cell_type": "code",
   "execution_count": 16,
   "id": "f3d16ef7",
   "metadata": {},
   "outputs": [
    {
     "name": "stdout",
     "output_type": "stream",
     "text": [
      "=== CASE: SIMPLY SUPPORTED SQUARE SLAB ===\n",
      "* Twisting moment relieves 25 percent of bending moment.\n",
      "* Bending moment formula: (qu/2)*l**2 / 8 less 25%\n",
      "Mu_squareslab = 13.25kN-m per mtr width\n"
     ]
    }
   ],
   "source": [
    "#Case: Simply Supported Square Slab, if only bending moments were present\n",
    "print(\"=== CASE: SIMPLY SUPPORTED SQUARE SLAB ===\")\n",
    "print(\"* Twisting moment relieves 25 percent of bending moment.\")\n",
    "print(\"* Bending moment formula: (qu/2)*l**2 / 8 less 25%\")\n",
    "Mu_square = ( ((qu*0.5)*(lb*0.001)**2) / 8 ) * 0.75 #kN-m\n",
    "print(f\"Mu_squareslab = {rd(Mu_square)}kN-m per mtr width\")"
   ]
  },
  {
   "cell_type": "code",
   "execution_count": 19,
   "id": "83484795",
   "metadata": {},
   "outputs": [
    {
     "name": "stdout",
     "output_type": "stream",
     "text": [
      "Total Statical Moment, Mo = 190.78 kN-m for each direction.\n",
      "Width of Column Strip: 2700.0mm\n",
      "Width of Middle Strip: 2700.0mm\n"
     ]
    }
   ],
   "source": [
    "#Total Statical Moment, Mo\n",
    "Mo = qu*S1.W*.001*(S1.L*.001)**2 / 8 #kN-m, for each direction (N-S and E-W)\n",
    "print(f\"Total Statical Moment, Mo = {rd(Mo)} kN-m for each direction.\")\n",
    "#Widths of Middle and Column Strip...\n",
    "width_cs = rd(min(0.5*S1.L,0.5*S1.W)) # 8.4.1.5\n",
    "print(f\"Width of Column Strip: {width_cs}mm\") \n",
    "width_ms = rd(max(S1.L - width_cs, S1.W - width_cs))\n",
    "print(f\"Width of Middle Strip: {width_ms}mm\")"
   ]
  },
  {
   "cell_type": "code",
   "execution_count": 22,
   "id": "24ad8f60",
   "metadata": {},
   "outputs": [
    {
     "name": "stdout",
     "output_type": "stream",
     "text": [
      "Distribuition of Mo for Interior Panels\n",
      " Interior Panel Moment (negative), Mo_neg = 124.0kNm.\n",
      " Interior Panel Moment (positive), Mo_pos = 66.77kNm.\n",
      "  IPM_neg, Column Strip, Mo_neg_cs = 80.6kNm.\n",
      "  IPM_neg, Middle Strip, Mo_neg_ms = 31.0 kNm\n",
      "  IPM_pos, Column Strip, Mo_pos_cs = 50.08 kNm\n",
      "  IPM_pos, Mid Strip, Mo_pos_ms = 16.69 kNm\n"
     ]
    }
   ],
   "source": [
    "#Interior Panel Moments Distribution of Mo\n",
    "print(\"Distribuition of Mo for Interior Panels\")\n",
    "Mo_neg = rd(0.65*Mo) #at supports/ends of slab\n",
    "Mo_pos = rd(0.35*Mo) #at midspan of slab\n",
    "print(f\" Interior Panel Moment (negative), Mo_neg = {Mo_neg}kNm.\")\n",
    "print(f\" Interior Panel Moment (positive), Mo_pos = {Mo_pos}kNm.\")\n",
    "#Interior Panel, Column Strip, Table 8.10.5.1\n",
    "Mo_neg_cs = rd(0.65*Mo_neg)\n",
    "print(f\"  IPM_neg, Column Strip, Mo_neg_cs = {Mo_neg_cs}kNm.\")\n",
    "#Interior Panel, Middle Strip\n",
    "Mo_neg_ms = rd(0.25*Mo_neg)\n",
    "print(f\"  IPM_neg, Middle Strip, Mo_neg_ms = {Mo_neg_ms} kNm\")\n",
    "#Pos Mu, Column Strip, Table 8.10.5.5\n",
    "Mo_pos_cs = rd(0.75*Mo_pos)\n",
    "print(f\"  IPM_pos, Column Strip, Mo_pos_cs = {Mo_pos_cs} kNm\")\n",
    "Mo_pos_ms = rd(0.25*Mo_pos)\n",
    "print(f\"  IPM_pos, Mid Strip, Mo_pos_ms = {Mo_pos_ms} kNm\")"
   ]
  },
  {
   "cell_type": "code",
   "execution_count": 24,
   "id": "06acb024-8113-4b0f-a625-a268374a337a",
   "metadata": {},
   "outputs": [
    {
     "name": "stdout",
     "output_type": "stream",
     "text": [
      "Distribution of Mo for End Span with beams between all supports.\n",
      " End Span Panel Moment (negative exterior), Mo_eneg = 30.52kNm.\n",
      " End Span Panel Moment (negative interior), Mo_ineg = 133.54kNm.\n",
      " End Span Panel Moment (positive), Mo_epos = 108.74kNm.\n",
      "    ESPM_eneg, Col Strip, Mo_eneg_cs = 19.84kNm\n",
      "    ESPM_ineg, Col Strip, Mo_ineg_cs = 22.89kNm\n",
      "    ESPM_epos, Column Strip, Mo_epos_cs = 81.55 kNm\n",
      "    ESPM_eneg, Mid Strip, Mo_eneg_ms = 10.68kNm\n",
      "    ESPM_epos, Mid Strip, Mo_epos_ms = 27.19 kNm\n"
     ]
    }
   ],
   "source": [
    "#End span Moments Distribution of Mo ACI318M-14 Table 8.10.4.2\n",
    "print(\"Distribution of Mo for End Span with beams between all supports.\")\n",
    "Mo_eneg = rd(0.16*Mo)\n",
    "Mo_ineg = rd(0.70*Mo)\n",
    "Mo_epos = rd(0.57*Mo)\n",
    "print(f\" End Span Panel Moment (negative exterior), Mo_eneg = {Mo_eneg}kNm.\")\n",
    "print(f\" End Span Panel Moment (negative interior), Mo_ineg = {Mo_ineg}kNm.\")\n",
    "print(f\" End Span Panel Moment (positive), Mo_epos = {Mo_epos}kNm.\")\n",
    "Mo_eneg_cs = rd(0.65*Mo_eneg)\n",
    "print(f\"    ESPM_eneg, Col Strip, Mo_eneg_cs = {Mo_eneg_cs}kNm\")\n",
    "Mo_ineg_cs = rd(0.75*Mo_eneg)\n",
    "print(f\"    ESPM_ineg, Col Strip, Mo_ineg_cs = {Mo_ineg_cs}kNm\")\n",
    "Mo_epos_cs = rd(0.75*Mo_epos)\n",
    "print(f\"    ESPM_epos, Column Strip, Mo_epos_cs = {Mo_epos_cs} kNm\")\n",
    "Mo_eneg_ms = rd(Mo_eneg - Mo_eneg_cs)\n",
    "print(f\"    ESPM_eneg, Mid Strip, Mo_eneg_ms = {Mo_eneg_ms}kNm\")\n",
    "Mo_epos_ms = rd(Mo_epos - Mo_epos_cs)\n",
    "print(f\"    ESPM_epos, Mid Strip, Mo_epos_ms = {Mo_epos_ms} kNm\")"
   ]
  }
 ],
 "metadata": {
  "kernelspec": {
   "display_name": "Python 3",
   "language": "python",
   "name": "python3"
  },
  "language_info": {
   "codemirror_mode": {
    "name": "ipython",
    "version": 3
   },
   "file_extension": ".py",
   "mimetype": "text/x-python",
   "name": "python",
   "nbconvert_exporter": "python",
   "pygments_lexer": "ipython3",
   "version": "3.12.1"
  }
 },
 "nbformat": 4,
 "nbformat_minor": 5
}
