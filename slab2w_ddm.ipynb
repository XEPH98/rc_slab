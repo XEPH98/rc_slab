{
 "cells": [
  {
   "cell_type": "code",
   "execution_count": 2,
   "id": "128c4f4d-17ad-4ea1-a5a1-1c6061f32827",
   "metadata": {},
   "outputs": [
    {
     "name": "stdout",
     "output_type": "stream",
     "text": [
      "=== PROCEDURE, REFERENCE, & LIMITATIONS ===\n",
      "Procedure: Direct Design Method\n",
      "Reference: ACI 318M-14 | RCD by Darwin & Nelson\n",
      "Limitations: \n",
      " minimum 3x3 panel. If fewer, interior negative moments tend to be too small. \n",
      " Ratio not greater than 2. \n",
      " Span lengths not differ by more than 1/3 of the longer span. \n",
      " applicable only to braced frames \n",
      " Service live load shall not exceed two times the service dead load. \n",
      " relative stiffness of beams in two perpedicular directions shall not be lt 0.2 or gt 5.0.\n"
     ]
    }
   ],
   "source": [
    "print(\"=== PROCEDURE, REFERENCE, & LIMITATIONS ===\")\n",
    "print(\"Procedure: Direct Design Method\")\n",
    "print(\"Reference: ACI 318M-14 | RCD by Darwin & Nelson\")\n",
    "print(\"Limitations: \\n minimum 3x3 panel. If fewer, interior negative moments tend to be too small. \\n Ratio not greater than 2. \\n Span lengths not differ by more than 1/3 of the longer span. \\n applicable only to braced frames \\n Service live load shall not exceed two times the service dead load. \\n relative stiffness of beams in two perpedicular directions shall not be lt 0.2 or gt 5.0.\")"
   ]
  },
  {
   "cell_type": "code",
   "execution_count": 3,
   "id": "4aa3ffcf-6e1b-4b38-a83b-0ef0a00c7ab8",
   "metadata": {},
   "outputs": [],
   "source": [
    "import math\n",
    "pi = math.pi\n",
    "def sqrt(x):\n",
    "    return math.sqrt(x)\n",
    "def rd(x):\n",
    "    return round(x,2)\n",
    "def roundup(x):\n",
    "    return math.ceil(x/10.0) * 10"
   ]
  },
  {
   "cell_type": "code",
   "execution_count": 4,
   "id": "8740348b",
   "metadata": {},
   "outputs": [],
   "source": [
    "#conversions\n",
    "def mm_to_in(x):\n",
    "    return round(x/25.4,2)\n",
    "def kPa_to_psf(x):\n",
    "    return round(x*144/6.89655172413793,2)\n",
    "def psf_to_kPa(x):\n",
    "    return round(x*6.89655172413793/144,2)\n",
    "def kNm_to_kipft(x):\n",
    "    \"\"\"\n",
    "    Output:\n",
    "    Converts kN-m to kip-ft\n",
    "    \"\"\"\n",
    "    return rd(x/1.35582)\n",
    "def kipft_to_kNm(x):\n",
    "    \"\"\"\n",
    "    Output:\n",
    "    Converts kip-ft to kN-m\n",
    "    \"\"\"\n",
    "    return rd(x*1.35582)"
   ]
  },
  {
   "cell_type": "code",
   "execution_count": 5,
   "id": "77319da9-50b6-4034-a723-5f692b20144e",
   "metadata": {},
   "outputs": [],
   "source": [
    "#Class and methods\n",
    "class Beam:\n",
    "    def __init__ (self, name, dimy, dimz, length):\n",
    "        self.name = name\n",
    "        self.dimy = dimy\n",
    "        self.dimz = dimz\n",
    "        self.length  = length\n",
    "    def Icb(self):\n",
    "        return self.dimy*self.dimz**3/12\n",
    "class Slab:\n",
    "    def __init__ (self, name, L, W, thk):\n",
    "        self.name = name\n",
    "        self.L = L #The larger dimension\n",
    "        self.W = W \n",
    "        self.thk = thk\n",
    "    def Ics(self):\n",
    "        return self.W*self.thk**3/12"
   ]
  },
  {
   "cell_type": "code",
   "execution_count": 6,
   "id": "570697e9",
   "metadata": {},
   "outputs": [
    {
     "name": "stdout",
     "output_type": "stream",
     "text": [
      "=== MATERIAL PROPERTIES ===\n",
      "fc = 27MPa | fy = 230MPa | Ec = 24.42GPa\n",
      "=== GEOMETRIC PROPERTIES ===\n",
      "Initial Slab Geometric Properties\n",
      " L = 7260mm, W = 5730mm, thk = 150mm.\n",
      "Ratio of longer to shorter slab clear span: 1.27\n",
      "Average Relative Stiffness beam to slab, alpha_f = 3.35.\n"
     ]
    }
   ],
   "source": [
    "#Slab and Beam Material Properties\n",
    "fc = 27 #MPa\n",
    "Ec = rd(4700*sqrt(fc)/1000) #GPa, for normal weight concrete\n",
    "fy = 230 #MPa\n",
    "print(\"=== MATERIAL PROPERTIES ===\")\n",
    "print(f\"fc = {fc}MPa | fy = {fy}MPa | Ec = {Ec}GPa\")\n",
    "\n",
    "#Beam Material and Geometric Properties\n",
    "B_north = Beam(\"B_north\",300,600,7700)\n",
    "B_south = Beam(\"B_south\",300,600,7700)\n",
    "B_east = Beam(\"B_east\",300,600,7700)\n",
    "B_west = Beam(\"B_west\",300,600,7700)\n",
    "\n",
    "#Slab Material and Geometric Properties\n",
    "print(\"=== GEOMETRIC PROPERTIES ===\")\n",
    "S1 = Slab(\"S1\",7260,5730,150)\n",
    "lb = S1.L #larger dimension\n",
    "la = S1.W #shorter dimension\n",
    "print(f\"Initial Slab Geometric Properties\\n L = {S1.L}mm, W = {S1.W}mm, thk = {S1.thk}mm.\")\n",
    "beta = S1.L / S1.W #Ratio of longer to shorter slab dim\n",
    "print(f\"Ratio of longer to shorter slab clear span: {rd(beta)}\")\n",
    "\n",
    "#Beam-to-slab Stiffness Ratio, alpha_f\n",
    "alpha_f = B_north.Icb() / S1.Ics()\n",
    "print(f\"Average Relative Stiffness beam to slab, alpha_f = {rd(alpha_f)}.\")\n"
   ]
  },
  {
   "cell_type": "code",
   "execution_count": 7,
   "id": "e9a51c87",
   "metadata": {},
   "outputs": [
    {
     "name": "stdout",
     "output_type": "stream",
     "text": [
      "=== MIN. THICKNESS (8.3.1.2) ===\n",
      "1. case 2 governs: alpha_f > 2.0\n",
      "2. Minimum Slab Thickness (ACI318M-14, 8.3.1.2) = 147.68mm.\n",
      "3. Adopt S1.thk = 150mm (5.91in) \n",
      "=== APPLIED LOADS ===\n",
      "1. DL = 3.8kPa (79.34psf) | LL = 7.0kPa (146.16psf)\n",
      "2. Service Uniform Pressure, qa = 10.8kPa (225.5psf)\n",
      "3. Factored Uniform Pressure, qu = 15.76kPa (329.07psf)\n"
     ]
    }
   ],
   "source": [
    "#Slab Minimum Thickness per 8.3.1.2 ACI318M-14\n",
    "print(\"=== MIN. THICKNESS (8.3.1.2) ===\")\n",
    "if alpha_f > 0.20 and alpha_f < 2:\n",
    "    print(f\"1. case 1 governs: 0.20 < alpha_f < 2.0\")\n",
    "    h_min = rd(max( S1.L * (0.8 + fy/1400) / (36+5*(S1.L/S1.W)*(alpha_f - 0.2)) , 125)) #mm\n",
    "else: \n",
    "    print(f\"1. case 2 governs: alpha_f > 2.0\")\n",
    "    h_min = rd(max( S1.L * (0.8 + fy/1400) / (36+9*(S1.L/S1.W)) , 90)) #mm\n",
    "    \n",
    "print(f\"2. Minimum Slab Thickness (ACI318M-14, 8.3.1.2) = {h_min}mm.\")\n",
    "S1.thk = roundup(max(S1.thk,h_min))\n",
    "print(f\"3. Adopt S1.thk = {S1.thk}mm ({mm_to_in(S1.thk)}in) \")\n",
    "#Factored Uniform Load\n",
    "print(\"=== APPLIED LOADS ===\")\n",
    "DL = rd(24*max(h_min,S1.thk)*.001 + 0.2) #selfweight of slab, kPa\n",
    "LL = 7.0 #kPa\n",
    "qa = DL + LL\n",
    "qu = 1.2*DL + 1.6*LL\n",
    "print(f\"1. DL = {DL}kPa ({kPa_to_psf(DL)}psf) | LL = {LL}kPa ({kPa_to_psf(LL)}psf)\")\n",
    "print(f\"2. Service Uniform Pressure, qa = {rd(qa)}kPa ({kPa_to_psf(qa)}psf)\")\n",
    "print(f\"3. Factored Uniform Pressure, qu = {rd(qu)}kPa ({kPa_to_psf(qu)}psf)\") #kPa"
   ]
  },
  {
   "cell_type": "code",
   "execution_count": 8,
   "id": "00e9df02",
   "metadata": {},
   "outputs": [
    {
     "name": "stdout",
     "output_type": "stream",
     "text": [
      "=== MIN. REINF. NEAR TENSION FACE, EA.DIR. (8.6.1) ===\n",
      "1. Asmin = 0.0020Ag = 300.0mm2 per mtr width of slab\n",
      "1. Max. spacing of flex. reinf. at crit. sec. must not exceed 2*slab_thk per 8.7.3\n",
      "2. s_max = 300mm\n",
      "=== CORNER RESTRAINT IN SLAB (8.7.3) ===\n",
      "1. Length corner bar, lcor = 1452mm\n",
      "2. Mu_cor = 16.61kN-m\n"
     ]
    }
   ],
   "source": [
    "#Minimum reinforcement near tension face for each dir\n",
    "print(\"=== MIN. REINF. NEAR TENSION FACE, EA.DIR. (8.6.1) ===\")\n",
    "if fy < 420:\n",
    "    Asmin = rd(0.0020 * 1000 * S1.thk)\n",
    "    print(f\"1. Asmin = 0.0020Ag = {Asmin}mm2 per mtr width of slab\")\n",
    "else:\n",
    "    Asmin = rd( max( 0.0018*420*1000*S1.thk/fy , 0.0014*1000*S1.thk ) )\n",
    "    print(f\"1. Asmin = {Asmin}mm2 per mtr width of slab\")\n",
    "\n",
    "#Minimum spacing of flexural reinforcement at crit sections\n",
    "print(\"1. Max. spacing of flex. reinf. at crit. sec. must not exceed 2*slab_thk per 8.7.3\")\n",
    "s_max = int(2*S1.thk) #mm\n",
    "print(f\"2. s_max = {s_max}mm\")\n",
    "\n",
    "#Corner restraint in slab\n",
    "print(\"=== CORNER RESTRAINT IN SLAB (8.7.3) ===\")\n",
    "lcor = int(rd(lb / 5)) #mm\n",
    "print(f\"1. Length corner bar, lcor = {lcor}mm\")\n",
    "Mu_cor = rd((1/2)*qu*(lcor*0.001)**2) #kN-m\n",
    "print(f\"2. Mu_cor = {Mu_cor}kN-m\")\n"
   ]
  },
  {
   "cell_type": "code",
   "execution_count": 9,
   "id": "f3d16ef7",
   "metadata": {},
   "outputs": [
    {
     "name": "stdout",
     "output_type": "stream",
     "text": [
      "=== CASE: SIMPLY SUPPORTED SQUARE SLAB ===\n",
      "1. Twisting moment relieves 25 percent of bending moment.\n",
      "2. Bending moment formula: (qu/2)*l**2 / 8 less 25%\n",
      "3. Mu_squareslab = 38.94kN-m per mtr width\n"
     ]
    }
   ],
   "source": [
    "#Case: Simply Supported Square Slab, if only bending moments were present\n",
    "print(\"=== CASE: SIMPLY SUPPORTED SQUARE SLAB ===\")\n",
    "print(\"1. Twisting moment relieves 25 percent of bending moment.\")\n",
    "print(\"2. Bending moment formula: (qu/2)*l**2 / 8 less 25%\")\n",
    "Mu_square = ( ((qu*0.5)*(lb*0.001)**2) / 8 ) * 0.75 #kN-m\n",
    "print(f\"3. Mu_squareslab = {rd(Mu_square)}kN-m per mtr width\")"
   ]
  },
  {
   "cell_type": "code",
   "execution_count": 10,
   "id": "83484795",
   "metadata": {},
   "outputs": [
    {
     "name": "stdout",
     "output_type": "stream",
     "text": [
      "=== TOTAL STATICAL MOMENT, Mo ===\n",
      "1a. Total Statical Moment, Mo_LDir = 594.97kN-m (438.83kip-ft) long dir.\n",
      "1b. Total Statical Moment, Mo_SDir = 469.58kN-m (346.35kip-ft) shrt dir.\n",
      "2a. Width of Column Strip: 2865.0mm (9.4ft)\n",
      "2b. Width of Middle Strip: 4395.0mm (14.42ft)\n"
     ]
    }
   ],
   "source": [
    "#Total Statical Moment, Mo (CONSIDER BENDING OF THE LONGER SPAN)\n",
    "print(\"=== TOTAL STATICAL MOMENT, Mo ===\")\n",
    "Mo_LDir = qu*S1.W*.001*(S1.L*.001)**2 / 8 #kN-m\n",
    "print(f\"1a. Total Statical Moment, Mo_LDir = {rd(Mo_LDir)}kN-m ({kNm_to_kipft(Mo_LDir)}kip-ft) long dir.\")\n",
    "Mo_SDir = qu*S1.L*.001*(S1.W*.001)**2 / 8 #kN-m\n",
    "print(f\"1b. Total Statical Moment, Mo_SDir = {rd(Mo_SDir)}kN-m ({kNm_to_kipft(Mo_SDir)}kip-ft) shrt dir.\")\n",
    "#Widths of Middle and Column Strip...\n",
    "width_cs = rd(min(0.5*S1.L,0.5*S1.W)) # 8.4.1.5\n",
    "print(f\"2a. Width of Column Strip: {width_cs}mm ({mm_to_in(width_cs/12)}ft)\") \n",
    "width_ms = rd(max(S1.L - width_cs, S1.W - width_cs))\n",
    "print(f\"2b. Width of Middle Strip: {width_ms}mm ({mm_to_in(width_ms/12)}ft)\")"
   ]
  },
  {
   "cell_type": "code",
   "execution_count": 36,
   "id": "24ad8f60",
   "metadata": {},
   "outputs": [
    {
     "name": "stdout",
     "output_type": "stream",
     "text": [
      "=== LDIR: Distribuition of Mo for Interior Panels (8.10.4.1) ===\n",
      " 1a. Interior Panel Moment (negative), Mol_neg = 386.73kNm (285.24kipft)\n",
      " 1b. Interior Panel Moment (positive), Mol_pos = 208.24kNm (153.59kipft)\n",
      "  2a. IPM_neg, Column Strip, Mol_neg_cs = 290.05kNm (213.93kipft)\n",
      "    2a.1. Mol_neg_cs_beam (85%, 8.10.5.7): 246.54kNm (181.84kipft)\n",
      "    2a.1. Mol_neg_cs_slab (15%, 8.10.5.7): 43.51kNm (32.09kipft)\n",
      "  2b. IPM_neg, Middle Strip, Mol_neg_ms = 96.68kNm (71.31kipft)\n",
      "  2c. IPM_pos, Column Strip, Mol_pos_cs = 156.18kNm (115.19kipft)\n",
      "    2c.1. Mol_pos_cs_beam (85%, 8.10.5.7): 132.75kNm (97.91kipft)\n",
      "    2c.1. Mol_pos_cs_slab (15%, 8.10.5.7): 23.43kNm (17.28kipft)\n",
      "  2d. IPM_pos, Mid Strip, Mol_pos_ms = 52.06kNm (38.4kipft)\n",
      "=== SDIR: Distribuition of Mo for Interior Panels (8.10.4.1) ===\n",
      " 1a. Interior Panel Moment (negative), Mos_neg = 305.23kNm (225.13kipft)\n",
      " 1b. Interior Panel Moment (positive), Mos_pos = 164.35kNm (121.22kipft)\n",
      "  2a. IPM_neg, Column Strip, Mos_neg_cs = 228.92kNm (168.84kipft)\n",
      "    2a.1. Mos_neg_cs_beam (85%, 8.10.5.7): 194.58kNm (143.51kipft)\n",
      "    2a.1. Mos_neg_cs_slab (15%, 8.10.5.7): 34.34kNm (25.33kipft)\n",
      "  2b. IPM_neg, Middle Strip, Mos_neg_ms = 76.31kNm (56.28kipft)\n",
      "  2c. IPM_pos, Column Strip, Mos_pos_cs = 123.26kNm (90.91kipft)\n",
      "    2c.1. Mos_pos_cs_beam (85%, 8.10.5.7): 104.77kNm (77.27kipft)\n",
      "    2c.1. Mos_pos_cs_slab (15%, 8.10.5.7): 18.49kNm (13.64kipft)\n",
      "  2d. IPM_pos, Mid Strip, Mos_pos_ms = 41.09kNm (30.31kipft)\n"
     ]
    }
   ],
   "source": [
    "#Interior Panel Moments Distribution of Mo\n",
    "print(\"=== LDIR: Distribuition of Mo for Interior Panels (8.10.4.1) ===\")\n",
    "Mol_neg = rd(0.65*Mo_LDir) #at supports/ends of slab\n",
    "Mol_pos = rd(0.35*Mo_LDir) #at midspan of slab\n",
    "print(f\" 1a. Interior Panel Moment (negative), Mol_neg = {Mol_neg}kNm ({kNm_to_kipft(Mol_neg)}kipft)\")\n",
    "print(f\" 1b. Interior Panel Moment (positive), Mol_pos = {Mol_pos}kNm ({kNm_to_kipft(Mol_pos)}kipft)\")\n",
    "#Interior Panel, Column Strip, Table 8.10.5.1\n",
    "Mol_neg_cs = rd(0.75*Mol_neg)\n",
    "print(f\"  2a. IPM_neg, Column Strip, Mol_neg_cs = {Mol_neg_cs}kNm ({kNm_to_kipft(Mol_neg_cs)}kipft)\")\n",
    "Mol_neg_cs_beam = rd(0.85*Mol_neg_cs)\n",
    "Mol_neg_cs_slab = rd(0.15*Mol_neg_cs)\n",
    "print(f\"    2a.1. Mol_neg_cs_beam (85%, 8.10.5.7): {Mol_neg_cs_beam}kNm ({kNm_to_kipft(Mol_neg_cs_beam)}kipft)\")\n",
    "print(f\"    2a.1. Mol_neg_cs_slab (15%, 8.10.5.7): {Mol_neg_cs_slab}kNm ({kNm_to_kipft(Mol_neg_cs_slab)}kipft)\")\n",
    "#Interior Panel, Middle Strip\n",
    "Mol_neg_ms = rd(Mol_neg - Mol_neg_cs) #8.10.6\n",
    "print(f\"  2b. IPM_neg, Middle Strip, Mol_neg_ms = {Mol_neg_ms}kNm ({kNm_to_kipft(Mol_neg_ms)}kipft)\")\n",
    "#Pos Mu, Column Strip, Table 8.10.5.5\n",
    "Mol_pos_cs = rd(0.75*Mol_pos)\n",
    "print(f\"  2c. IPM_pos, Column Strip, Mol_pos_cs = {Mol_pos_cs}kNm ({kNm_to_kipft(Mol_pos_cs)}kipft)\")\n",
    "Mol_pos_cs_beam = rd(0.85*Mol_pos_cs)\n",
    "Mol_pos_cs_slab = rd(0.15*Mol_pos_cs)\n",
    "print(f\"    2c.1. Mol_pos_cs_beam (85%, 8.10.5.7): {Mol_pos_cs_beam}kNm ({kNm_to_kipft(Mol_pos_cs_beam)}kipft)\")\n",
    "print(f\"    2c.1. Mol_pos_cs_slab (15%, 8.10.5.7): {Mol_pos_cs_slab}kNm ({kNm_to_kipft(Mol_pos_cs_slab)}kipft)\")\n",
    "Mol_pos_ms = rd(Mol_pos - Mol_pos_cs) #8.10.6\n",
    "print(f\"  2d. IPM_pos, Mid Strip, Mol_pos_ms = {Mol_pos_ms}kNm ({kNm_to_kipft(Mol_pos_ms)}kipft)\")\n",
    "\n",
    "print(\"=== SDIR: Distribuition of Mo for Interior Panels (8.10.4.1) ===\")\n",
    "Mos_neg = rd(0.65*Mo_SDir) #at supports/ends of slab\n",
    "Mos_pos = rd(0.35*Mo_SDir) #at midspan of slab\n",
    "print(f\" 1a. Interior Panel Moment (negative), Mos_neg = {Mos_neg}kNm ({kNm_to_kipft(Mos_neg)}kipft)\")\n",
    "print(f\" 1b. Interior Panel Moment (positive), Mos_pos = {Mos_pos}kNm ({kNm_to_kipft(Mos_pos)}kipft)\")\n",
    "#Interior Panel, Column Strip, Table 8.10.5.1\n",
    "Mos_neg_cs = rd(0.75*Mos_neg)\n",
    "print(f\"  2a. IPM_neg, Column Strip, Mos_neg_cs = {Mos_neg_cs}kNm ({kNm_to_kipft(Mos_neg_cs)}kipft)\")\n",
    "Mos_neg_cs_beam = rd(0.85*Mos_neg_cs)\n",
    "Mos_neg_cs_slab = rd(0.15*Mos_neg_cs)\n",
    "print(f\"    2a.1. Mos_neg_cs_beam (85%, 8.10.5.7): {Mos_neg_cs_beam}kNm ({kNm_to_kipft(Mos_neg_cs_beam)}kipft)\")\n",
    "print(f\"    2a.1. Mos_neg_cs_slab (15%, 8.10.5.7): {Mos_neg_cs_slab}kNm ({kNm_to_kipft(Mos_neg_cs_slab)}kipft)\")\n",
    "#Interior Panel, Middle Strip\n",
    "Mos_neg_ms = rd(Mos_neg - Mos_neg_cs) #8.10.6\n",
    "print(f\"  2b. IPM_neg, Middle Strip, Mos_neg_ms = {Mos_neg_ms}kNm ({kNm_to_kipft(Mos_neg_ms)}kipft)\")\n",
    "#Pos Mu, Column Strip, Table 8.10.5.5\n",
    "Mos_pos_cs = rd(0.75*Mos_pos)\n",
    "print(f\"  2c. IPM_pos, Column Strip, Mos_pos_cs = {Mos_pos_cs}kNm ({kNm_to_kipft(Mos_pos_cs)}kipft)\")\n",
    "Mos_pos_cs_beam = rd(0.85*Mos_pos_cs)\n",
    "Mos_pos_cs_slab = rd(0.15*Mos_pos_cs)\n",
    "print(f\"    2c.1. Mos_pos_cs_beam (85%, 8.10.5.7): {Mos_pos_cs_beam}kNm ({kNm_to_kipft(Mos_pos_cs_beam)}kipft)\")\n",
    "print(f\"    2c.1. Mos_pos_cs_slab (15%, 8.10.5.7): {Mos_pos_cs_slab}kNm ({kNm_to_kipft(Mos_pos_cs_slab)}kipft)\")\n",
    "Mos_pos_ms = rd(Mos_pos - Mos_pos_cs) #8.10.6\n",
    "print(f\"  2d. IPM_pos, Mid Strip, Mos_pos_ms = {Mos_pos_ms}kNm ({kNm_to_kipft(Mos_pos_ms)}kipft)\")\n"
   ]
  },
  {
   "cell_type": "code",
   "execution_count": 53,
   "id": "06acb024-8113-4b0f-a625-a268374a337a",
   "metadata": {},
   "outputs": [
    {
     "name": "stdout",
     "output_type": "stream",
     "text": [
      "=== LDIR: Distribution of Mo for End Span with beams between all supports ===\n",
      " End Span Panel Moment (negative exterior), Mo_eneg = 95.19kNm.\n",
      " End Span Panel Moment (negative interior), Mo_ineg = 416.48kNm.\n",
      " End Span Panel Moment (positive), Mo_epos = 339.13kNm.\n",
      "    1. ESPM_eneg, Col Strip, Mol_eneg_cs = 61.87kNm (45.63kipft)\n",
      "      1a. Mol_eneg_cs_beam (85%, 8.10.5.7): 52.59kNm (38.79kipft)\n",
      "      1b. Mol_eneg_cs_slab (15%, 8.10.5.7): 9.28kNm (6.84kipft)\n",
      "    2. ESPM_ineg, Col Strip, Mol_ineg_cs = 312.36kNm (230.38kipft)\n",
      "      2a. Mol_ineg_cs_beam (85%, 8.10.5.7): 265.51kNm (195.83kipft)\n",
      "      2b. Mol_ineg_cs_slab (15%, 8.10.5.7): 46.85kNm (34.55kipft)\n",
      "    3. ESPM_pos, Col Strip, Mol_poss_cs = 254.35kNm (187.6kipft)\n",
      "      3a. Mol_poss_cs_beam (85%, 8.10.5.7): 216.2kNm (159.46kipft)\n",
      "      3b. Mol_poss_cs_slab (15%, 8.10.5.7): 38.15kNm (28.14kipft)\n",
      "    1. ESPM_eneg, Mid Strip, Mol_eneg_ms = 33.32kNm (24.58kipft)\n",
      "    2. ESPM_ineg, Mid Strip, Mol_ineg_ms = 104.12kNm (76.79kipft)\n",
      "    3. ESPM_pos, Mid Strip, Mol_poss_ms = 84.78kNm (62.53kipft)\n",
      "=== SDIR: Distribution of Mo for End Span with beams between all supports ===\n",
      " End Span Panel Moment (negative exterior), Mos_eneg = 75.13kNm.\n",
      " End Span Panel Moment (negative interior), Mos_ineg = 328.71kNm.\n",
      " End Span Panel Moment (positive), Mos_epos = 267.66kNm.\n",
      "    1. ESPM_eneg, Col Strip, Mos_eneg_cs = 48.83kNm (36.02kipft)\n",
      "      1a. Mos_eneg_cs_beam (85%, 8.10.5.7): 41.51kNm (30.62kipft)\n",
      "      1b. Mos_eneg_cs_slab (15%, 8.10.5.7): 7.32kNm (5.4kipft)\n",
      "    2. ESPM_ineg, Col Strip, Mos_ineg_cs = 246.53kNm (181.83kipft)\n",
      "      2a. Mos_ineg_cs_beam (85%, 8.10.5.7): 209.55kNm (154.56kipft)\n",
      "      2b. Mos_ineg_cs_slab (15%, 8.10.5.7): 36.98kNm (27.28kipft)\n",
      "    3. ESPM_pos, Col Strip, Mos_poss_cs = 200.75kNm (148.07kipft)\n",
      "      3a. Mos_poss_cs_beam (85%, 8.10.5.7): 170.64kNm (125.86kipft)\n",
      "      3b. Mos_poss_cs_slab (15%, 8.10.5.7): 30.11kNm (22.21kipft)\n",
      "    1. ESPM_eneg, Mid Strip, Mos_eneg_ms = 26.3kNm (19.4kipft)\n",
      "    2. ESPM_ineg, Mid Strip, Mos_ineg_ms = 82.18kNm (60.61kipft)\n",
      "    3. ESPM_pos, Mid Strip, Mos_poss_ms = 66.91kNm (49.35kipft)\n"
     ]
    }
   ],
   "source": [
    "#End span Moments Distribution of Mo ACI318M-14 Table 8.10.4.2\n",
    "print(\"=== LDIR: Distribution of Mo for End Span with beams between all supports ===\")\n",
    "Mol_eneg = rd(0.16*Mo_LDir)\n",
    "Mol_ineg = rd(0.70*Mo_LDir)\n",
    "Mol_poss = rd(0.57*Mo_LDir)\n",
    "print(f\" End Span Panel Moment (negative exterior), Mo_eneg = {Mol_eneg}kNm.\")\n",
    "print(f\" End Span Panel Moment (negative interior), Mo_ineg = {Mol_ineg}kNm.\")\n",
    "print(f\" End Span Panel Moment (positive), Mo_epos = {Mol_poss}kNm.\")\n",
    "Mol_eneg_cs = rd(0.65*Mol_eneg)\n",
    "print(f\"    1. ESPM_eneg, Col Strip, Mol_eneg_cs = {Mol_eneg_cs}kNm ({kNm_to_kipft(Mol_eneg_cs)}kipft)\")\n",
    "Mol_eneg_cs_beam = rd(0.85*Mol_eneg_cs)\n",
    "Mol_eneg_cs_slab = rd(0.15*Mol_eneg_cs)\n",
    "print(f\"      1a. Mol_eneg_cs_beam (85%, 8.10.5.7): {Mol_eneg_cs_beam}kNm ({kNm_to_kipft(Mol_eneg_cs_beam)}kipft)\")\n",
    "print(f\"      1b. Mol_eneg_cs_slab (15%, 8.10.5.7): {Mol_eneg_cs_slab}kNm ({kNm_to_kipft(Mol_eneg_cs_slab)}kipft)\")\n",
    "Mol_ineg_cs = rd(0.75*Mol_ineg)\n",
    "print(f\"    2. ESPM_ineg, Col Strip, Mol_ineg_cs = {Mol_ineg_cs}kNm ({kNm_to_kipft(Mol_ineg_cs)}kipft)\")\n",
    "Mol_ineg_cs_beam = rd(0.85*Mol_ineg_cs)\n",
    "Mol_ineg_cs_slab = rd(0.15*Mol_ineg_cs)\n",
    "print(f\"      2a. Mol_ineg_cs_beam (85%, 8.10.5.7): {Mol_ineg_cs_beam}kNm ({kNm_to_kipft(Mol_ineg_cs_beam)}kipft)\")\n",
    "print(f\"      2b. Mol_ineg_cs_slab (15%, 8.10.5.7): {Mol_ineg_cs_slab}kNm ({kNm_to_kipft(Mol_ineg_cs_slab)}kipft)\")\n",
    "Mol_poss_cs = rd(0.75*Mol_poss)\n",
    "print(f\"    3. ESPM_pos, Col Strip, Mol_poss_cs = {Mol_poss_cs}kNm ({kNm_to_kipft(Mol_poss_cs)}kipft)\")\n",
    "Mol_poss_cs_beam = rd(0.85*Mol_poss_cs)\n",
    "Mol_poss_cs_slab = rd(0.15*Mol_poss_cs)\n",
    "print(f\"      3a. Mol_poss_cs_beam (85%, 8.10.5.7): {Mol_poss_cs_beam}kNm ({kNm_to_kipft(Mol_poss_cs_beam)}kipft)\")\n",
    "print(f\"      3b. Mol_poss_cs_slab (15%, 8.10.5.7): {Mol_poss_cs_slab}kNm ({kNm_to_kipft(Mol_poss_cs_slab)}kipft)\")\n",
    "Mol_eneg_ms = rd(Mol_eneg - Mol_eneg_cs)\n",
    "print(f\"    1. ESPM_eneg, Mid Strip, Mol_eneg_ms = {Mol_eneg_ms}kNm ({kNm_to_kipft(Mol_eneg_ms)}kipft)\")\n",
    "Mol_ineg_ms = rd(Mol_ineg - Mol_ineg_cs)\n",
    "print(f\"    2. ESPM_ineg, Mid Strip, Mol_ineg_ms = {Mol_ineg_ms}kNm ({kNm_to_kipft(Mol_ineg_ms)}kipft)\")\n",
    "Mol_poss_ms = rd(Mol_poss - Mol_poss_cs)\n",
    "print(f\"    3. ESPM_pos, Mid Strip, Mol_poss_ms = {Mol_poss_ms}kNm ({kNm_to_kipft(Mol_poss_ms)}kipft)\")\n",
    "#SHORT DIRECTION \n",
    "print(\"=== SDIR: Distribution of Mo for End Span with beams between all supports ===\")\n",
    "Mos_eneg = rd(0.16*Mo_SDir)\n",
    "Mos_ineg = rd(0.70*Mo_SDir)\n",
    "Mos_poss = rd(0.57*Mo_SDir)\n",
    "print(f\" End Span Panel Moment (negative exterior), Mos_eneg = {Mos_eneg}kNm.\")\n",
    "print(f\" End Span Panel Moment (negative interior), Mos_ineg = {Mos_ineg}kNm.\")\n",
    "print(f\" End Span Panel Moment (positive), Mos_epos = {Mos_poss}kNm.\")\n",
    "Mos_eneg_cs = rd(0.65*Mos_eneg)\n",
    "print(f\"    1. ESPM_eneg, Col Strip, Mos_eneg_cs = {Mos_eneg_cs}kNm ({kNm_to_kipft(Mos_eneg_cs)}kipft)\")\n",
    "Mos_eneg_cs_beam = rd(0.85*Mos_eneg_cs)\n",
    "Mos_eneg_cs_slab = rd(0.15*Mos_eneg_cs)\n",
    "print(f\"      1a. Mos_eneg_cs_beam (85%, 8.10.5.7): {Mos_eneg_cs_beam}kNm ({kNm_to_kipft(Mos_eneg_cs_beam)}kipft)\")\n",
    "print(f\"      1b. Mos_eneg_cs_slab (15%, 8.10.5.7): {Mos_eneg_cs_slab}kNm ({kNm_to_kipft(Mos_eneg_cs_slab)}kipft)\")\n",
    "Mos_ineg_cs = rd(0.75*Mos_ineg)\n",
    "print(f\"    2. ESPM_ineg, Col Strip, Mos_ineg_cs = {Mos_ineg_cs}kNm ({kNm_to_kipft(Mos_ineg_cs)}kipft)\")\n",
    "Mos_ineg_cs_beam = rd(0.85*Mos_ineg_cs)\n",
    "Mos_ineg_cs_slab = rd(0.15*Mos_ineg_cs)\n",
    "print(f\"      2a. Mos_ineg_cs_beam (85%, 8.10.5.7): {Mos_ineg_cs_beam}kNm ({kNm_to_kipft(Mos_ineg_cs_beam)}kipft)\")\n",
    "print(f\"      2b. Mos_ineg_cs_slab (15%, 8.10.5.7): {Mos_ineg_cs_slab}kNm ({kNm_to_kipft(Mos_ineg_cs_slab)}kipft)\")\n",
    "Mos_poss_cs = rd(0.75*Mos_poss)\n",
    "print(f\"    3. ESPM_pos, Col Strip, Mos_poss_cs = {Mos_poss_cs}kNm ({kNm_to_kipft(Mos_poss_cs)}kipft)\")\n",
    "Mos_poss_cs_beam = rd(0.85*Mos_poss_cs)\n",
    "Mos_poss_cs_slab = rd(0.15*Mos_poss_cs)\n",
    "print(f\"      3a. Mos_poss_cs_beam (85%, 8.10.5.7): {Mos_poss_cs_beam}kNm ({kNm_to_kipft(Mos_poss_cs_beam)}kipft)\")\n",
    "print(f\"      3b. Mos_poss_cs_slab (15%, 8.10.5.7): {Mos_poss_cs_slab}kNm ({kNm_to_kipft(Mos_poss_cs_slab)}kipft)\")\n",
    "Mos_eneg_ms = rd(Mos_eneg - Mos_eneg_cs)\n",
    "print(f\"    1. ESPM_eneg, Mid Strip, Mos_eneg_ms = {Mos_eneg_ms}kNm ({kNm_to_kipft(Mos_eneg_ms)}kipft)\")\n",
    "Mos_ineg_ms = rd(Mos_ineg - Mos_ineg_cs)\n",
    "print(f\"    2. ESPM_ineg, Mid Strip, Mos_ineg_ms = {Mos_ineg_ms}kNm ({kNm_to_kipft(Mos_ineg_ms)}kipft)\")\n",
    "Mos_poss_ms = rd(Mos_poss - Mos_poss_cs)\n",
    "print(f\"    3. ESPM_pos, Mid Strip, Mos_poss_ms = {Mos_poss_ms}kNm ({kNm_to_kipft(Mos_poss_ms)}kipft)\")"
   ]
  },
  {
   "cell_type": "code",
   "execution_count": 54,
   "id": "4fedbd0f",
   "metadata": {},
   "outputs": [
    {
     "name": "stdout",
     "output_type": "stream",
     "text": [
      "bw_mid = 4395.0mm | bw_supp = 2865.0mm\n"
     ]
    }
   ],
   "source": [
    "#Strip / width\n",
    "bw_sup = width_cs #mm\n",
    "bw_mid = width_ms #mm\n",
    "print(f\"bw_mid = {bw_mid}mm | bw_supp = {width_cs}mm\")\n",
    "\n",
    "#RSB SPACING ALONG LONG DIR\n",
    "#Moment for bottom reinf\n",
    "LDir_mid_Mo_bot = Mol_poss_ms\n",
    "LDir_sup_Mo_bot = Mol_poss_cs\n",
    "\n",
    "#moment for top reinf\n",
    "LDir_sup_Mo_top = Mol_ineg_cs\n"
   ]
  },
  {
   "cell_type": "code",
   "execution_count": 55,
   "id": "6dca232b",
   "metadata": {},
   "outputs": [
    {
     "name": "stdout",
     "output_type": "stream",
     "text": [
      "==== MATERIAL PROPERTIES ====\n",
      "fc = 27MPa, fy = 230MPa, fyt = 230MPa\n"
     ]
    }
   ],
   "source": [
    "#Material Properties\n",
    "fc = 27       #concrete compressive strength, MPa\n",
    "fy = 230        #steel yield strength, MPa\n",
    "fyt = 230       #steel yield strength of ties, MPa\n",
    "Es = 200000     #Steel Elasticity, GPa\n",
    "print(f\"==== MATERIAL PROPERTIES ====\\nfc = {fc}MPa, fy = {fy}MPa, fyt = {fyt}MPa\")\n",
    "\n",
    "#Tensile Reinforcement Detail\n",
    "d_main = 12     #diameter of main bars, mm\n",
    "d_tie = 12      #diameter of tie bars, mm\n",
    "n_tieleg = 2    #no. of tie legs\n",
    "sc = 25         #steel cover\n",
    "\n",
    "def MomentCap(bw,h,layer, n1, n2, Mu):\n",
    "    if layer > 1:\n",
    "        As1 = n1*pi*0.25*d_main**2\n",
    "        As2 = n2*pi*0.25*d_main**2\n",
    "        As = rd(As1 + As2)\n",
    "        y = (As1*0 + As2*(d_main + 25))/As\n",
    "        dt = h - sc - d_tie - d_main/2      #reinforcement farthest from the compression face\n",
    "        d = rd(dt - y)                          #centroid of steel\n",
    "        print(f\"1. dmain = {d_main} | n1 = {n1}pcs, n2 = {n2}pcs | d = {d}mm\")\n",
    "    else:\n",
    "        dt = h - sc - d_tie - d_main/2      #reinforcement farthest from the compression face\n",
    "        d = dt                              #centroid of steel\n",
    "        As = rd( pi*d_main**2*0.25*n1 )\n",
    "        print(f\"1. dmain = {d_main} | n = {n1}pcs | dt = {dt}mm\")\n",
    "    \n",
    "    s2 = round((bw-sc*2-d_tie*2)/(n1-1))        #spacing of the long reinf., mm\n",
    "    print(f\"2. As = {As}mm2 | spacing (mainbar) = {s2}mm.\")\n",
    "    #Beta Factor\n",
    "    if fc <= 28:\n",
    "        beta1 = 0.85\n",
    "    elif 28 < fc < 55:\n",
    "        beta1 = round(0.85 - 0.05*(fc-28)/7,4)\n",
    "    else:\n",
    "        beta1 = 0.65\n",
    "    #Equivalent compression block\n",
    "    a = As*fy/(0.85*fc*bw)\n",
    "    c = a/beta1\n",
    "    #Rho for Balanced Strain Condition\n",
    "    eu = 0.003      #crushing strain of concrete\n",
    "    ety = 0.002      #ACI 21.2.2.1, net tensile strain value in the extreme layer of long ten reinf. if compression controlled\n",
    "    ey = fy/Es     \n",
    "    rho_b = round(0.85*beta1*fc*eu/(fy*(eu+ety)),5)\n",
    "    #Rho for Actual Strain Condition\n",
    "    et = eu*(dt-c)/c    #net tensile strain in extreme layer of long ten reinf.\n",
    "    rho_act = round(0.85*beta1*fc*dt*eu/(fy*d*(eu+et)),5)\n",
    "    #Rho for maximum reinforcement ratio for a tension-controlled beam\n",
    "    rho_ten = round(0.85*beta1*fc*eu/(fy*(eu+0.005)),5)\n",
    "    print(f\"3. rho_bal: {rho_b} | rho_act: {rho_act} | rho_ten: {rho_ten}\")\n",
    "    def phi():\n",
    "        if et <= ety:\n",
    "            phi = 0.65\n",
    "        elif ety < et < 0.005:\n",
    "            phi = 0.65 + 0.25*(et - ey)/(0.005 - ey)\n",
    "        else:\n",
    "            phi = 0.90\n",
    "        return phi\n",
    "    print(f\"4. phi_flex = {phi()} | beta1 = {beta1}\")\n",
    "    #Bending Capacity\n",
    "    Mn = rd(0.85*fc*a*bw*(d-a/2)*(0.001**2))      #Bending Capacity, kN-m\n",
    "    phiMn = rd(phi()*Mn) #kN-m\n",
    "    if phiMn > Mu:\n",
    "        print(f\"5. phiMn = {phiMn}kN-m > Mu = {Mu}kN-m. SAFE!\")\n",
    "    else:\n",
    "        print(f\"5. phiMn = {phiMn}kN-m < Mu = {Mu}kN-m. UNSAFE!\")\n",
    "        exit(\"***** PROGRAM TERMINATED *****\")\n",
    "    return Mn, phiMn, d, s2, n1, n2, layer"
   ]
  },
  {
   "cell_type": "code",
   "execution_count": 56,
   "id": "a43c4c6b",
   "metadata": {},
   "outputs": [
    {
     "name": "stdout",
     "output_type": "stream",
     "text": [
      "=== LONG DIR: MIDSPAN BOT BARS ===\n",
      "1. dmain = 12 | n = 40pcs | dt = 107.0mm\n",
      "2. As = 4523.89mm2 | spacing (mainbar) = 111mm.\n",
      "3. rho_bal: 0.05089 | rho_act: 0.00962 | rho_ten: 0.03181\n",
      "4. phi_flex = 0.9 | beta1 = 0.85\n",
      "5. phiMn = 95.37kN-m > Mu = 84.78kN-m. SAFE!\n",
      "=== LONG DIR: SUPSPAN BOT BARS ===\n",
      "1. dmain = 12 | n = 28pcs | dt = 107.0mm\n",
      "2. As = 3166.73mm2 | spacing (mainbar) = 103mm.\n",
      "3. rho_bal: 0.05089 | rho_act: 0.01033 | rho_ten: 0.03181\n",
      "4. phi_flex = 0.9 | beta1 = 0.85\n",
      "5. phiMn = 66.51kN-m < Mu = 254.35kN-m. UNSAFE!\n"
     ]
    }
   ],
   "source": [
    "#MomentCapacity\n",
    "\n",
    "import slab2w_capacity\n",
    "print(\"=== LONG DIR: MIDSPAN BOT BARS ===\")\n",
    "mid_bot = MomentCap(bw_mid,S1.thk,1,40,0,LDir_mid_Mo_bot)\n",
    "\n",
    "print(\"=== LONG DIR: SUPSPAN BOT BARS ===\")\n",
    "sup_bot = MomentCap(bw_sup,S1.thk,1,28,0,LDir_sup_Mo_bot)"
   ]
  }
 ],
 "metadata": {
  "kernelspec": {
   "display_name": "Python 3",
   "language": "python",
   "name": "python3"
  },
  "language_info": {
   "codemirror_mode": {
    "name": "ipython",
    "version": 3
   },
   "file_extension": ".py",
   "mimetype": "text/x-python",
   "name": "python",
   "nbconvert_exporter": "python",
   "pygments_lexer": "ipython3",
   "version": "3.12.1"
  }
 },
 "nbformat": 4,
 "nbformat_minor": 5
}
